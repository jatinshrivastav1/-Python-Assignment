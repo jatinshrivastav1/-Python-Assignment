{
 "cells": [
  {
   "cell_type": "markdown",
   "id": "18db1eeb",
   "metadata": {},
   "source": [
    "# Assignment Solutions"
   ]
  },
  {
   "cell_type": "markdown",
   "id": "fb1a039d",
   "metadata": {},
   "source": [
    "## Q1. Explain with an example each when to use a for loop and a while loop."
   ]
  },
  {
   "cell_type": "code",
   "execution_count": null,
   "id": "80855c20-b6f6-4cf1-a626-9d11f3eda65b",
   "metadata": {},
   "outputs": [],
   "source": [
    "# for loop when we know the loop should execute n times. \n",
    "#while loop for reading a file into a variable. "
   ]
  },
  {
   "cell_type": "code",
   "execution_count": 6,
   "id": "e06a8ce9",
   "metadata": {},
   "outputs": [
    {
     "name": "stdout",
     "output_type": "stream",
     "text": [
      "1\n",
      "2\n",
      "3\n",
      "4\n",
      "5\n",
      "0\n",
      "1\n",
      "2\n",
      "3\n",
      "4\n"
     ]
    }
   ],
   "source": [
    "# For loop example\n",
    "numbers = [1, 2, 3, 4, 5]\n",
    "for number in numbers:\n",
    "    print(number)\n",
    "\n",
    "\n"
   ]
  },
  {
   "cell_type": "code",
   "execution_count": 7,
   "id": "2560dceb-eeb6-4f4f-8863-f51a1799095f",
   "metadata": {},
   "outputs": [
    {
     "name": "stdout",
     "output_type": "stream",
     "text": [
      "0\n",
      "1\n",
      "2\n",
      "3\n",
      "4\n"
     ]
    }
   ],
   "source": [
    "# While loop example\n",
    "counter = 0\n",
    "while counter < 5:\n",
    "    print(counter)\n",
    "    counter += 1"
   ]
  },
  {
   "cell_type": "markdown",
   "id": "00c847c6",
   "metadata": {},
   "source": [
    "## Q2. Write a python program to print the sum and product of the first 10 natural numbers using for and while loop."
   ]
  },
  {
   "cell_type": "code",
   "execution_count": 1,
   "id": "263087fa",
   "metadata": {},
   "outputs": [
    {
     "name": "stdout",
     "output_type": "stream",
     "text": [
      "Sum: 55\n",
      "Product: 3628800\n",
      "Sum: 55\n",
      "Product: 3628800\n"
     ]
    }
   ],
   "source": [
    "# Sum and product using for loop\n",
    "sum_numbers = 0\n",
    "product_numbers = 1\n",
    "for i in range(1, 11):\n",
    "    sum_numbers += i\n",
    "    product_numbers *= i\n",
    "\n",
    "print(f\"Sum: {sum_numbers}\")\n",
    "print(f\"Product: {product_numbers}\")\n",
    "\n",
    "# Sum and product using while loop\n",
    "sum_numbers = 0\n",
    "product_numbers = 1\n",
    "counter = 1\n",
    "while counter <= 10:\n",
    "    sum_numbers += counter\n",
    "    product_numbers *= counter\n",
    "    counter += 1\n",
    "\n",
    "print(f\"Sum: {sum_numbers}\")\n",
    "print(f\"Product: {product_numbers}\")\n"
   ]
  },
  {
   "cell_type": "markdown",
   "id": "854cc526",
   "metadata": {},
   "source": [
    "## Q3. Create a python program to compute the electricity bill for a household."
   ]
  },
  {
   "cell_type": "code",
   "execution_count": 2,
   "id": "9cd51928",
   "metadata": {},
   "outputs": [
    {
     "name": "stdout",
     "output_type": "stream",
     "text": [
      "The total electricity bill for 310 units is: 2250.0\n"
     ]
    }
   ],
   "source": [
    "def calculate_electricity_bill(units):\n",
    "    if units <= 100:\n",
    "        bill = units * 4.5\n",
    "    elif units <= 200:\n",
    "        bill = (100 * 4.5) + ((units - 100) * 6)\n",
    "    elif units <= 300:\n",
    "        bill = (100 * 4.5) + (100 * 6) + ((units - 200) * 10)\n",
    "    else:\n",
    "        bill = (100 * 4.5) + (100 * 6) + (100 * 10) + ((units - 300) * 20)\n",
    "    return bill\n",
    "\n",
    "units = 310\n",
    "bill = calculate_electricity_bill(units)\n",
    "print(f\"The total electricity bill for {units} units is: {bill}\")\n"
   ]
  },
  {
   "cell_type": "markdown",
   "id": "e0a1799d",
   "metadata": {},
   "source": [
    "## Q4. Create a list of numbers from 1 to 100. Use for loop and while loop to calculate the cube of each number and if the cube of that number is divisible by 4 or 5 then append that number in a list and print that list."
   ]
  },
  {
   "cell_type": "code",
   "execution_count": 3,
   "id": "17980fdd",
   "metadata": {},
   "outputs": [
    {
     "name": "stdout",
     "output_type": "stream",
     "text": [
      "Result using for loop: [2, 4, 5, 6, 8, 10, 12, 14, 15, 16, 18, 20, 22, 24, 25, 26, 28, 30, 32, 34, 35, 36, 38, 40, 42, 44, 45, 46, 48, 50, 52, 54, 55, 56, 58, 60, 62, 64, 65, 66, 68, 70, 72, 74, 75, 76, 78, 80, 82, 84, 85, 86, 88, 90, 92, 94, 95, 96, 98, 100]\n",
      "Result using while loop: [2, 4, 5, 6, 8, 10, 12, 14, 15, 16, 18, 20, 22, 24, 25, 26, 28, 30, 32, 34, 35, 36, 38, 40, 42, 44, 45, 46, 48, 50, 52, 54, 55, 56, 58, 60, 62, 64, 65, 66, 68, 70, 72, 74, 75, 76, 78, 80, 82, 84, 85, 86, 88, 90, 92, 94, 95, 96, 98, 100]\n"
     ]
    }
   ],
   "source": [
    "# Using for loop\n",
    "numbers = list(range(1, 101))\n",
    "result_for = []\n",
    "\n",
    "for number in numbers:\n",
    "    cube = number ** 3\n",
    "    if cube % 4 == 0 or cube % 5 == 0:\n",
    "        result_for.append(number)\n",
    "\n",
    "print(\"Result using for loop:\", result_for)\n",
    "\n",
    "# Using while loop\n",
    "numbers = list(range(1, 101))\n",
    "result_while = []\n",
    "index = 0\n",
    "\n",
    "while index < len(numbers):\n",
    "    cube = numbers[index] ** 3\n",
    "    if cube % 4 == 0 or cube % 5 == 0:\n",
    "        result_while.append(numbers[index])\n",
    "    index += 1\n",
    "\n",
    "print(\"Result using while loop:\", result_while)\n"
   ]
  },
  {
   "cell_type": "markdown",
   "id": "f194f442",
   "metadata": {},
   "source": [
    "## Q5. Write a program to filter and count vowels in the given string."
   ]
  },
  {
   "cell_type": "code",
   "execution_count": 4,
   "id": "b63bc5b8",
   "metadata": {},
   "outputs": [
    {
     "name": "stdout",
     "output_type": "stream",
     "text": [
      "Total number of vowels: 12\n",
      "Count of each vowel: {'a': 4, 'e': 3, 'i': 2, 'o': 2, 'u': 0, 'A': 0, 'E': 0, 'I': 1, 'O': 0, 'U': 0}\n"
     ]
    }
   ],
   "source": [
    "# Given string\n",
    "string = \"I want to become a data scientist\"\n",
    "vowels = 'aeiouAEIOU'\n",
    "vowel_count = {vowel: 0 for vowel in vowels}\n",
    "\n",
    "for char in string:\n",
    "    if char in vowels:\n",
    "        vowel_count[char] += 1\n",
    "\n",
    "# Total vowel count\n",
    "total_vowels = sum(vowel_count.values())\n",
    "\n",
    "print(f\"Total number of vowels: {total_vowels}\")\n",
    "print(\"Count of each vowel:\", vowel_count)\n"
   ]
  },
  {
   "cell_type": "code",
   "execution_count": null,
   "id": "5939033e-4e94-485a-a0ae-d4334e8807ba",
   "metadata": {},
   "outputs": [],
   "source": []
  }
 ],
 "metadata": {
  "kernelspec": {
   "display_name": "Python 3 (ipykernel)",
   "language": "python",
   "name": "python3"
  },
  "language_info": {
   "codemirror_mode": {
    "name": "ipython",
    "version": 3
   },
   "file_extension": ".py",
   "mimetype": "text/x-python",
   "name": "python",
   "nbconvert_exporter": "python",
   "pygments_lexer": "ipython3",
   "version": "3.10.8"
  }
 },
 "nbformat": 4,
 "nbformat_minor": 5
}
